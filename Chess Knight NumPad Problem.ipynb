{
 "cells": [
  {
   "cell_type": "code",
   "execution_count": 1,
   "metadata": {},
   "outputs": [],
   "source": [
    "import numpy as np\n",
    "# Solving the challenge described in https://www.coursereport.com/blog/cracking-the-bootcamp-interview-the-data-incubator"
   ]
  },
  {
   "cell_type": "code",
   "execution_count": 2,
   "metadata": {
    "scrolled": true
   },
   "outputs": [
    {
     "name": "stderr",
     "output_type": "stream",
     "text": [
      "<ipython-input-2-ade0464c82f0>:3: VisibleDeprecationWarning: Creating an ndarray from ragged nested sequences (which is a list-or-tuple of lists-or-tuples-or ndarrays with different lengths or shapes) is deprecated. If you meant to do this, you must specify 'dtype=object' when creating the ndarray\n",
      "  transitions = np.array([[4,6], [6,8], [7,9], [4,8], [0,3,9], [5], [0,1,7], [2,6], [1,3], [2,4]])\n"
     ]
    }
   ],
   "source": [
    "states = np.array([0,1,2,3,4,5,6,7,8,9])\n",
    "num_states = len(states)\n",
    "transitions = np.array([[4,6], [6,8], [7,9], [4,8], [0,3,9], [5], [0,1,7], [2,6], [1,3], [2,4]])"
   ]
  },
  {
   "cell_type": "code",
   "execution_count": 3,
   "metadata": {},
   "outputs": [],
   "source": [
    "#Create a transition matrix P for Markov Chain with defined states and possible transitions\n",
    "def populate_transition_matrix(states, transitions):\n",
    "    transition_matrix = np.zeros((num_states,num_states))\n",
    "\n",
    "    for i,state in enumerate(states):\n",
    "\n",
    "        possible_moves = transitions[i]\n",
    "        num_options = len(possible_moves)\n",
    "\n",
    "        for possible_move in possible_moves:\n",
    "            transition_matrix[i, possible_move] += 1/num_options\n",
    "            \n",
    "    return transition_matrix"
   ]
  },
  {
   "cell_type": "code",
   "execution_count": 4,
   "metadata": {},
   "outputs": [],
   "source": [
    "transition_matrix = populate_transition_matrix(states, transitions)"
   ]
  },
  {
   "cell_type": "code",
   "execution_count": 24,
   "metadata": {},
   "outputs": [],
   "source": [
    "#Probability of Knight being on a given number T jumps from s_0\n",
    "\n",
    "def pmf(T, s_0):\n",
    "    F = np.linalg.matrix_power(transition_matrix, T)[s_0]\n",
    "    return F"
   ]
  },
  {
   "cell_type": "code",
   "execution_count": 81,
   "metadata": {},
   "outputs": [],
   "source": [
    "#Expected Value of state at T, with initial state s_0\n",
    "\n",
    "def E_state(T,s_0):\n",
    "    E_state = pmf(T,s_0).dot(states)\n",
    "    return E_state"
   ]
  },
  {
   "cell_type": "code",
   "execution_count": 82,
   "metadata": {},
   "outputs": [],
   "source": [
    "#Expected Value of running sum SS at T, with initial state s_0\n",
    "\n",
    "def E_SS(T,s_0):\n",
    "    SS = 0\n",
    "    for i in range(T):\n",
    "        SS += E_state(i+1,s_0)\n",
    "    return SS"
   ]
  },
  {
   "cell_type": "code",
   "execution_count": 97,
   "metadata": {},
   "outputs": [],
   "source": [
    "#Given T = 10T10. Compute E S mod 10\n",
    "#We have a function that can compute SS, which is 11 times S.\n",
    "\n",
    "def main(T):\n",
    "    T = 10010+T*100\n",
    "    E_Smod10 = (E_SS(T,0)/11)%10\n",
    "    return(E_Smod10)"
   ]
  },
  {
   "cell_type": "code",
   "execution_count": 99,
   "metadata": {},
   "outputs": [
    {
     "data": {
      "text/plain": [
       "8.563636363635851"
      ]
     },
     "execution_count": 99,
     "metadata": {},
     "output_type": "execute_result"
    }
   ],
   "source": [
    "main(4)"
   ]
  },
  {
   "cell_type": "code",
   "execution_count": 86,
   "metadata": {},
   "outputs": [],
   "source": [
    "from matplotlib.collections import PatchCollection\n",
    "from matplotlib.patches import Rectangle\n",
    "\n",
    "#Function to convert one dimensional array into numerical pad configuration\n",
    "def arr_to_pad(p_array):\n",
    "    numpad = np.zeros((4,3))\n",
    "    numpad[0] = p_array[1:4]\n",
    "    numpad[1] = p_array[4:7]\n",
    "    numpad[2] = p_array[7:10]\n",
    "    numpad[3][1] = p_array[0]\n",
    "    return numpad\n",
    "\n",
    "def plot_pmf(T):\n",
    "\n",
    "    im = arr_to_pad(pmf(T,0))\n",
    "\n",
    "    # Create figure and axes\n",
    "    fig,ax = plt.subplots(1)\n",
    "\n",
    "    pos = ax.imshow(im, cmap='Blues', interpolation='none')\n",
    "\n",
    "    fig.colorbar(pos, ax=ax)\n",
    "\n",
    "    # Create a Rectangle patch\n",
    "    rect = Rectangle((-0.5,2.5),1,1,linewidth=1,edgecolor='w',facecolor='w')\n",
    "    rect2 = Rectangle((1.5,2.5),1,1,linewidth=1,edgecolor='w',facecolor='w')\n",
    "    #Add the patch to the Axes\n",
    "    ax.add_patch(rect)\n",
    "    ax.add_patch(rect2)\n",
    "\n",
    "    ax.text(0,0, '1', fontsize = 20, c = 'r')\n",
    "    ax.text(1,0, '2', fontsize = 20, c = 'r')\n",
    "    ax.text(2,0, '3', fontsize = 20, c = 'r')\n",
    "    ax.text(0,1, '4', fontsize = 20, c = 'r')\n",
    "    ax.text(1,1, '5', fontsize = 20, c = 'r')\n",
    "    ax.text(2,1, '6', fontsize = 20, c = 'r')\n",
    "    ax.text(0,2, '7', fontsize = 20, c = 'r')\n",
    "    ax.text(1,2, '8', fontsize = 20, c = 'r')\n",
    "    ax.text(2,2, '9', fontsize = 20, c = 'r')\n",
    "    ax.text(1,3, '0', fontsize = 20, c = 'r')\n",
    "\n",
    "    plt.axis('off')\n",
    "    plt.show()"
   ]
  },
  {
   "cell_type": "code",
   "execution_count": 95,
   "metadata": {},
   "outputs": [
    {
     "data": {
      "image/png": "[encoded data removed]",
      "text/plain": [
       "<Figure size 432x288 with 2 Axes>"
      ]
     },
     "metadata": {
      "needs_background": "light"
     },
     "output_type": "display_data"
    }
   ],
   "source": [
    "plot_pmf(4)"
   ]
  }
 ],
 "metadata": {
  "kernelspec": {
   "display_name": "Python 3",
   "language": "python",
   "name": "python3"
  },
  "language_info": {
   "codemirror_mode": {
    "name": "ipython",
    "version": 3
   },
   "file_extension": ".py",
   "mimetype": "text/x-python",
   "name": "python",
   "nbconvert_exporter": "python",
   "pygments_lexer": "ipython3",
   "version": "3.8.5"
  }
 },
 "nbformat": 4,
 "nbformat_minor": 4
}
